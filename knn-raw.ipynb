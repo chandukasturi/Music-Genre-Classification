{
 "cells": [
  {
   "cell_type": "code",
   "execution_count": 3,
   "metadata": {},
   "outputs": [
    {
     "name": "stdout",
     "output_type": "stream",
     "text": [
      "15\n",
      "Train:  1.0 \tCV:  0.54 \tTest:  0.51\n"
     ]
    }
   ],
   "source": [
    "import numpy as np\n",
    "import random\n",
    "import math\n",
    "from sklearn.preprocessing import StandardScaler\n",
    "from sklearn.decomposition import PCA\n",
    "from sklearn.neighbors import KNeighborsClassifier\n",
    "\n",
    "import load_data\n",
    "\n",
    "PCA_TOGGLE = True\n",
    "\n",
    "data = load_data.loadall('melspects.npz')\n",
    "x_tr = data['x_tr']\n",
    "y_tr = data['y_tr']\n",
    "x_te = data['x_te']\n",
    "y_te = data['y_te']\n",
    "x_cv = data['x_cv']\n",
    "y_cv = data['y_cv']\n",
    "\n",
    "\n",
    "# print(y_cv)\n",
    "\n",
    "x_tr = x_tr.reshape(x_tr.shape[0], x_tr.shape[1]*x_tr.shape[2])\n",
    "x_cv = x_cv.reshape(x_cv.shape[0], x_cv.shape[1]*x_cv.shape[2])\n",
    "x_te = x_te.reshape(x_te.shape[0], x_te.shape[1]*x_te.shape[2])\n",
    "\n",
    "scaler = StandardScaler()\n",
    "# Fit on training set only.\n",
    "scaler.fit(x_tr)\n",
    "# Apply transform to both the training set and the test set.\n",
    "train_sc = scaler.transform(x_tr)\n",
    "cv_sc = scaler.transform(x_cv)\n",
    "test_sc = scaler.transform(x_te)\n",
    "\n",
    "\n",
    "if PCA_TOGGLE == True:\n",
    "\tpca = PCA(n_components = 15)\n",
    "\tpca.fit(train_sc)\n",
    "\n",
    "\ttrain_pca = pca.transform(train_sc)\n",
    "\tcv_pca = pca.transform(cv_sc)\n",
    "\ttest_pca = pca.transform(test_sc)\n",
    "\n",
    "\tprint(pca.n_components_)\n",
    "\n",
    "\tneigh = KNeighborsClassifier(n_neighbors=5, weights='distance')\n",
    "\tneigh.fit(train_pca, y_tr)\n",
    "\n",
    "\ttrain_preds = neigh.predict(train_pca)\n",
    "\ttrain_acc = np.sum(train_preds == y_tr)\n",
    "\ttrain_acc = train_acc / len(y_tr)\n",
    "\n",
    "\tcv_preds = neigh.predict(cv_pca)\n",
    "\tcv_acc = np.sum(cv_preds == y_cv)\n",
    "\tcv_acc = cv_acc / len(y_cv)\n",
    "\n",
    "\ttest_preds = neigh.predict(test_pca)\n",
    "\ttest_acc = np.sum(test_preds == y_te)\n",
    "\ttest_acc = test_acc / len(y_te)\n",
    "\n",
    "\tprint('Train: ', train_acc, \"\\tCV: \", cv_acc, \"\\tTest: \", test_acc)\n",
    "\t# print(preds)\n",
    "\n",
    "else:\n",
    "\tneigh2 = KNeighborsClassifier(n_neighbors=10, weights='distance')\n",
    "\tneigh2.fit(train_sc, y_tr)\n",
    "\n",
    "\tpreds = neigh2.predict(cv_sc)\n",
    "\tacc = np.sum(preds == y_cv)\n",
    "\tacc = acc / len(y_cv)\n",
    "\tprint('Accuracy is {}'.format(acc))\n",
    "\tprint(preds)\n",
    "\n"
   ]
  },
  {
   "cell_type": "code",
   "execution_count": null,
   "metadata": {},
   "outputs": [],
   "source": []
  }
 ],
 "metadata": {
  "kernelspec": {
   "display_name": "Python 3",
   "language": "python",
   "name": "python3"
  },
  "language_info": {
   "codemirror_mode": {
    "name": "ipython",
    "version": 3
   },
   "file_extension": ".py",
   "mimetype": "text/x-python",
   "name": "python",
   "nbconvert_exporter": "python",
   "pygments_lexer": "ipython3",
   "version": "3.8.3"
  }
 },
 "nbformat": 4,
 "nbformat_minor": 4
}
