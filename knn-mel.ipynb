{
 "cells": [
  {
   "cell_type": "code",
   "execution_count": 1,
   "metadata": {},
   "outputs": [
    {
     "name": "stdout",
     "output_type": "stream",
     "text": [
      "[0. 0. 0. ... 9. 9. 9.]\n",
      "[0. 0. 0. 0. 0. 0. 0. 0. 0. 0. 1. 1. 1. 1. 1. 1. 1. 1. 1. 1. 2. 2. 2. 2.\n",
      " 2. 2. 2. 2. 2. 2. 3. 3. 3. 3. 3. 3. 3. 3. 3. 3. 4. 4. 4. 4. 4. 4. 4. 4.\n",
      " 4. 4. 5. 5. 5. 5. 5. 5. 5. 5. 5. 5. 6. 6. 6. 6. 6. 6. 6. 6. 6. 6. 7. 7.\n",
      " 7. 7. 7. 7. 7. 7. 7. 7. 8. 8. 8. 8. 8. 8. 8. 8. 8. 8. 9. 9. 9. 9. 9. 9.\n",
      " 9. 9. 9. 9.]\n",
      "15\n",
      "Train Accuracy is 1.0\n",
      "[0. 0. 0. ... 9. 9. 9.]\n",
      "CV Accuracy is 0.24\n",
      "[0. 9. 6. 2. 2. 2. 3. 8. 6. 9. 1. 1. 1. 6. 1. 1. 1. 1. 1. 1. 3. 2. 3. 9.\n",
      " 6. 5. 5. 5. 1. 5. 8. 1. 2. 6. 3. 2. 6. 3. 6. 7. 7. 1. 8. 7. 3. 2. 4. 4.\n",
      " 7. 8. 8. 1. 5. 1. 1. 1. 5. 5. 5. 1. 9. 2. 0. 3. 2. 3. 0. 2. 5. 5. 6. 1.\n",
      " 6. 2. 7. 4. 0. 4. 3. 3. 9. 8. 5. 8. 2. 9. 1. 8. 5. 8. 0. 5. 0. 0. 2. 3.\n",
      " 5. 1. 2. 5.]\n",
      "Test Accuracy is 0.19\n",
      "[5. 5. 2. 5. 9. 5. 0. 3. 5. 3. 1. 5. 1. 1. 1. 1. 5. 1. 1. 1. 2. 1. 3. 2.\n",
      " 1. 8. 0. 1. 9. 8. 6. 6. 6. 3. 5. 0. 0. 6. 2. 5. 9. 3. 7. 4. 0. 3. 8. 3.\n",
      " 2. 7. 5. 1. 0. 1. 5. 4. 1. 1. 2. 6. 5. 1. 9. 0. 5. 6. 0. 0. 5. 5. 8. 4.\n",
      " 3. 3. 8. 6. 8. 2. 1. 4. 8. 8. 7. 0. 3. 5. 5. 0. 8. 9. 3. 6. 2. 6. 1. 6.\n",
      " 5. 5. 0. 8.]\n"
     ]
    }
   ],
   "source": [
    "import numpy as np\n",
    "import random\n",
    "import math\n",
    "from sklearn.preprocessing import StandardScaler\n",
    "from sklearn.decomposition import PCA\n",
    "from sklearn.neighbors import KNeighborsClassifier\n",
    "\n",
    "training = np.load('gtzan/gtzan_tr.npy')\n",
    "data_tr = np.delete(training, -1, 1)\n",
    "label_tr = training[:,-1]\n",
    "print(label_tr)\n",
    "\n",
    "test = np.load('gtzan/gtzan_te.npy')\n",
    "data_te = np.delete(test, -1, 1)\n",
    "label_te = test[:,-1]\n",
    "\n",
    "cv = np.load('gtzan/gtzan_cv.npy')\n",
    "data_cv = np.delete(cv, -1, 1)\n",
    "label_cv = cv[:,-1]\n",
    "\n",
    "print(label_cv)\n",
    "\n",
    "scaler = StandardScaler()\n",
    "# Fit on training set only.\n",
    "scaler.fit(data_tr)\n",
    "# Apply transform to both the training set and the test set.\n",
    "train_sc = scaler.transform(data_tr)\n",
    "cv_sc = scaler.transform(data_cv)\n",
    "test_sc = scaler.transform(data_te)\n",
    "\n",
    "\n",
    "pca = PCA(n_components = 15, whiten = True)\n",
    "pca.fit(train_sc)\n",
    "\n",
    "train_pca = pca.transform(train_sc)\n",
    "cv_pca = pca.transform(cv_sc)\n",
    "test_pca = pca.transform(test_sc)\n",
    "\n",
    "print(pca.n_components_)\n",
    "\n",
    "neigh = KNeighborsClassifier(n_neighbors=8, weights='distance')\n",
    "neigh.fit(train_pca, label_tr)\n",
    "\n",
    "preds = neigh.predict(train_pca)\n",
    "acc = np.sum(preds == label_tr)\n",
    "acc = acc / len(label_tr)\n",
    "print('Train Accuracy is {}'.format(acc))\n",
    "print(preds)\n",
    "preds = neigh.predict(cv_pca)\n",
    "acc = np.sum(preds == label_cv)\n",
    "acc = acc / len(label_cv)\n",
    "print('CV Accuracy is {}'.format(acc))\n",
    "print(preds)\n",
    "preds = neigh.predict(test_pca)\n",
    "acc = np.sum(preds == label_te)\n",
    "acc = acc / len(label_te)\n",
    "print('Test Accuracy is {}'.format(acc))\n",
    "print(preds)\n",
    "\n"
   ]
  },
  {
   "cell_type": "code",
   "execution_count": null,
   "metadata": {},
   "outputs": [],
   "source": []
  }
 ],
 "metadata": {
  "kernelspec": {
   "display_name": "Python 3",
   "language": "python",
   "name": "python3"
  },
  "language_info": {
   "codemirror_mode": {
    "name": "ipython",
    "version": 3
   },
   "file_extension": ".py",
   "mimetype": "text/x-python",
   "name": "python",
   "nbconvert_exporter": "python",
   "pygments_lexer": "ipython3",
   "version": "3.8.3"
  }
 },
 "nbformat": 4,
 "nbformat_minor": 4
}
